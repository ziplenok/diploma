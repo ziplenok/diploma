{
 "cells": [
  {
   "cell_type": "code",
   "execution_count": 1,
   "id": "1f381288",
   "metadata": {
    "scrolled": true
   },
   "outputs": [
    {
     "name": "stdout",
     "output_type": "stream",
     "text": [
      "200\n",
      "Connection Successful!!!\n",
      "['B140 - Международные отношения и дипломатия  ']\n"
     ]
    }
   ],
   "source": [
    "import requests\n",
    "import base64\n",
    "import numpy as np\n",
    "import cv2\n",
    "from matplotlib import pyplot as plt\n",
    "\n",
    "url = \"http://127.0.0.1:5000/predict\" #registration # login\n",
    "\n",
    "status = 'City'\n",
    "preimushestvo = 'непс'\n",
    "profile_subj_1 = 'Биология'\n",
    "profile_subj_2 = 'География'\n",
    "\n",
    "\n",
    "Points = 137\n",
    "Univer_code = 13\n",
    "certificate_point = 89\n",
    "average_from_attistat = 4.571\n",
    "profile_total = 46\n",
    "\n",
    "# Send a POST request to the endpoint with the image in base64 format\n",
    "response = requests.post(url, data={\"status\": status, \"preimushestvo\": preimushestvo, \"profile_subj_1\": profile_subj_1,\n",
    "                                   \"profile_subj_2\": profile_subj_2, \"Points\": Points, \"Univer_code\": Univer_code,\n",
    "                                   \"суммабалловсертификата\": certificate_point, \n",
    "                                    \"среднийбаллаттестата(диплома)\": average_from_attistat, \n",
    "                                    \"суммабалловпрофильныхпредметов(творческихэкзаменов)\": profile_total})\n",
    "\n",
    "print(response.status_code)\n",
    "\n",
    "# Check if the request was successful\n",
    "if response.status_code == 200:\n",
    "        \n",
    "    # Get the output image in base64 format\n",
    "    #image_out_base64 = response.json()[\"image\"]\n",
    "    spec = response.json()[\"spec\"]\n",
    "    print('Connection Successful!!!')\n",
    "    print(spec)\n",
    "else:\n",
    "    print(response.text)\n",
    "    print(\"Request failed with status code:\", response.status_code)"
   ]
  },
  {
   "cell_type": "code",
   "execution_count": null,
   "id": "80f18dc6",
   "metadata": {},
   "outputs": [],
   "source": []
  }
 ],
 "metadata": {
  "kernelspec": {
   "display_name": "Python 3 (ipykernel)",
   "language": "python",
   "name": "python3"
  },
  "language_info": {
   "codemirror_mode": {
    "name": "ipython",
    "version": 3
   },
   "file_extension": ".py",
   "mimetype": "text/x-python",
   "name": "python",
   "nbconvert_exporter": "python",
   "pygments_lexer": "ipython3",
   "version": "3.10.0"
  }
 },
 "nbformat": 4,
 "nbformat_minor": 5
}
